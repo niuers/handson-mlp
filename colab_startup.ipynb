{
  "nbformat": 4,
  "nbformat_minor": 0,
  "metadata": {
    "colab": {
      "provenance": [],
      "authorship_tag": "ABX9TyNv+gLuSMrIaXRiPcTi3NjX",
      "include_colab_link": true
    },
    "kernelspec": {
      "name": "python3",
      "display_name": "Python 3"
    },
    "language_info": {
      "name": "python"
    }
  },
  "cells": [
    {
      "cell_type": "markdown",
      "metadata": {
        "id": "view-in-github",
        "colab_type": "text"
      },
      "source": [
        "<a href=\"https://colab.research.google.com/github/niuers/handson-mlp/blob/main/colab_startup.ipynb\" target=\"_parent\"><img src=\"https://colab.research.google.com/assets/colab-badge.svg\" alt=\"Open In Colab\"/></a>"
      ]
    },
    {
      "cell_type": "code",
      "execution_count": 4,
      "metadata": {
        "colab": {
          "base_uri": "https://localhost:8080/"
        },
        "id": "FHcsWxd2gK1u",
        "outputId": "6bf0d97a-3c82-4bb2-b62b-a82b3cab0e2c"
      },
      "outputs": [
        {
          "output_type": "stream",
          "name": "stdout",
          "text": [
            "fatal: destination path 'handson-mlp' already exists and is not an empty directory.\n"
          ]
        }
      ],
      "source": [
        "!git clone https://github.com/niuers/handson-mlp.git"
      ]
    },
    {
      "cell_type": "code",
      "source": [
        "!git config --global user.email \"nzquantfin@google.com\"\n",
        "!git config --global user.name \"NZ\""
      ],
      "metadata": {
        "id": "T-SyA4MqgSv1"
      },
      "execution_count": 2,
      "outputs": []
    },
    {
      "cell_type": "code",
      "source": [],
      "metadata": {
        "id": "Wk3vcw2GhJRP"
      },
      "execution_count": null,
      "outputs": []
    },
    {
      "cell_type": "markdown",
      "metadata": {
        "id": "1338795b"
      },
      "source": [
        "First, retrieve your PAT from Colab's Secrets Manager:"
      ]
    },
    {
      "cell_type": "code",
      "metadata": {
        "id": "410e8d0f"
      },
      "source": [
        "from google.colab import userdata\n",
        "\n",
        "# Replace 'GITHUB_PAT' with the name you gave your secret\n",
        "GITHUB_PAT = userdata.get('GITHUB_PAT')"
      ],
      "execution_count": 7,
      "outputs": []
    },
    {
      "cell_type": "markdown",
      "metadata": {
        "id": "1dcaeb65"
      },
      "source": [
        "Now, configure Git to use the PAT for authentication. Replace `github.com` with your Git provider's domain if you are not using GitHub."
      ]
    },
    {
      "cell_type": "code",
      "metadata": {
        "colab": {
          "base_uri": "https://localhost:8080/"
        },
        "id": "d04dd6bc",
        "outputId": "24ff80e9-058f-44b9-b0f0-0bf2a456bf6a"
      },
      "source": [
        "import os\n",
        "\n",
        "# Get the current directory to handle potential changes\n",
        "current_dir = os.getcwd()\n",
        "\n",
        "# Change to the cloned repository directory if necessary\n",
        "# Replace 'handson-mlp' with the name of your repository folder\n",
        "repo_dir = os.path.join(current_dir, 'handson-mlp')\n",
        "\n",
        "# Check if the directory exists before changing to it\n",
        "if os.path.exists(repo_dir):\n",
        "    os.chdir(repo_dir)\n",
        "    print(f\"Changed directory to: {os.getcwd()}\")\n",
        "else:\n",
        "    print(f\"Repository directory not found: {repo_dir}. Please ensure you have cloned the repository.\")\n",
        "    # You might want to add logic here to handle the case where the repo is not cloned\n",
        "\n",
        "# Configure git to use the PAT\n",
        "# This command will replace the password with the PAT when pushing\n",
        "!git config --global url.\"https://{GITHUB_PAT}@github.com\".insteadOf \"https://github.com\"\n",
        "\n",
        "# Change back to the original directory if you changed it\n",
        "os.chdir(current_dir)\n",
        "print(f\"Changed back to original directory: {os.getcwd()}\")\n",
        "\n",
        "print(\"\\nGit is now configured to use your PAT.\")"
      ],
      "execution_count": 8,
      "outputs": [
        {
          "output_type": "stream",
          "name": "stdout",
          "text": [
            "Changed directory to: /content/handson-mlp\n",
            "Changed back to original directory: /content\n",
            "\n",
            "Git is now configured to use your PAT.\n"
          ]
        }
      ]
    },
    {
      "cell_type": "code",
      "metadata": {
        "id": "7815c208"
      },
      "source": [
        "# !git config --global credential.helper 'cache --timeout 3600'"
      ],
      "execution_count": 3,
      "outputs": []
    }
  ]
}