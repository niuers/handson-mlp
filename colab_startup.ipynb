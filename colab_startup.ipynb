{
  "nbformat": 4,
  "nbformat_minor": 0,
  "metadata": {
    "colab": {
      "provenance": [],
      "authorship_tag": "ABX9TyPgE7NK6K/pswwB+bymJ3iV",
      "include_colab_link": true
    },
    "kernelspec": {
      "name": "python3",
      "display_name": "Python 3"
    },
    "language_info": {
      "name": "python"
    }
  },
  "cells": [
    {
      "cell_type": "markdown",
      "metadata": {
        "id": "view-in-github",
        "colab_type": "text"
      },
      "source": [
        "<a href=\"https://colab.research.google.com/github/niuers/handson-mlp/blob/main/colab_startup.ipynb\" target=\"_parent\"><img src=\"https://colab.research.google.com/assets/colab-badge.svg\" alt=\"Open In Colab\"/></a>"
      ]
    },
    {
      "cell_type": "code",
      "execution_count": 1,
      "metadata": {
        "colab": {
          "base_uri": "https://localhost:8080/"
        },
        "id": "FHcsWxd2gK1u",
        "outputId": "f8a899c5-4d31-4e68-f847-8f47b7890291"
      },
      "outputs": [
        {
          "output_type": "stream",
          "name": "stdout",
          "text": [
            "Cloning into 'handson-mlp'...\n",
            "remote: Enumerating objects: 434, done.\u001b[K\n",
            "remote: Counting objects: 100% (70/70), done.\u001b[K\n",
            "remote: Compressing objects: 100% (36/36), done.\u001b[K\n",
            "remote: Total 434 (delta 53), reused 35 (delta 33), pack-reused 364 (from 2)\u001b[K\n",
            "Receiving objects: 100% (434/434), 84.28 MiB | 17.39 MiB/s, done.\n",
            "Resolving deltas: 100% (220/220), done.\n"
          ]
        }
      ],
      "source": [
        "!git clone https://github.com/niuers/handson-mlp.git"
      ]
    },
    {
      "cell_type": "code",
      "source": [
        "!git config --global user.email \"nzquantfin@google.com\"\n",
        "!git config --global user.name \"NZ\""
      ],
      "metadata": {
        "id": "T-SyA4MqgSv1"
      },
      "execution_count": 2,
      "outputs": []
    },
    {
      "cell_type": "markdown",
      "metadata": {
        "id": "1338795b"
      },
      "source": [
        "First, retrieve your PAT from Colab's Secrets Manager:"
      ]
    },
    {
      "cell_type": "code",
      "metadata": {
        "id": "410e8d0f"
      },
      "source": [
        "from google.colab import userdata\n",
        "\n",
        "# Replace 'GITHUB_PAT' with the name you gave your secret\n",
        "GITHUB_PAT = userdata.get('GITHUB_PAT')"
      ],
      "execution_count": 3,
      "outputs": []
    },
    {
      "cell_type": "markdown",
      "metadata": {
        "id": "1dcaeb65"
      },
      "source": [
        "Now, configure Git to use the PAT for authentication. Replace `github.com` with your Git provider's domain if you are not using GitHub."
      ]
    },
    {
      "cell_type": "code",
      "metadata": {
        "colab": {
          "base_uri": "https://localhost:8080/"
        },
        "id": "d04dd6bc",
        "outputId": "33164d9c-f6e4-4f72-edfb-b27b76aef3bf"
      },
      "source": [
        "import os\n",
        "\n",
        "# Get the current directory to handle potential changes\n",
        "current_dir = os.getcwd()\n",
        "\n",
        "# Change to the cloned repository directory if necessary\n",
        "# Replace 'handson-mlp' with the name of your repository folder\n",
        "repo_dir = os.path.join(current_dir, 'handson-mlp')\n",
        "\n",
        "# Check if the directory exists before changing to it\n",
        "if os.path.exists(repo_dir):\n",
        "    os.chdir(repo_dir)\n",
        "    print(f\"Changed directory to: {os.getcwd()}\")\n",
        "else:\n",
        "    print(f\"Repository directory not found: {repo_dir}. Please ensure you have cloned the repository.\")\n",
        "    # You might want to add logic here to handle the case where the repo is not cloned\n",
        "\n",
        "# Configure git to use the PAT\n",
        "# This command will replace the password with the PAT when pushing\n",
        "!git config --global url.\"https://{GITHUB_PAT}@github.com\".insteadOf \"https://github.com\"\n",
        "\n",
        "# Change back to the original directory if you changed it\n",
        "os.chdir(current_dir)\n",
        "print(f\"Changed back to original directory: {os.getcwd()}\")\n",
        "\n",
        "print(\"\\nGit is now configured to use your PAT.\")"
      ],
      "execution_count": 4,
      "outputs": [
        {
          "output_type": "stream",
          "name": "stdout",
          "text": [
            "Changed directory to: /content/handson-mlp\n",
            "Changed back to original directory: /content\n",
            "\n",
            "Git is now configured to use your PAT.\n"
          ]
        }
      ]
    },
    {
      "cell_type": "code",
      "metadata": {
        "id": "7815c208"
      },
      "source": [
        "# !git config --global credential.helper 'cache --timeout 3600'\n",
        "!alias gs=\"git status\"\n",
        "!alias gc=\"git commit -m\"\n",
        "!alias gp=\"git push\""
      ],
      "execution_count": 6,
      "outputs": []
    },
    {
      "cell_type": "code",
      "metadata": {
        "colab": {
          "base_uri": "https://localhost:8080/"
        },
        "id": "e7fdf630",
        "outputId": "83d90f23-88a5-4885-f877-5ae6e8ced5b4"
      },
      "source": [
        "%%shell\n",
        "echo 'alias gs=\"git status\"' >> ~/.bashrc\n",
        "echo 'alias gc=\"git commit -m\"' >> ~/.bashrc\n",
        "echo 'alias gp=\"git push\"' >> ~/.bashrc\n",
        "source ~/.bashrc\n",
        "\n",
        "# Note: While these aliases are added to .bashrc, their availability\n",
        "# for subsequent '!' or '%%shell' commands in other cells\n",
        "# may vary in the Colab environment.\n",
        "# You might need to define them directly within each %%shell block\n",
        "# where you want to use them for consistent behavior."
      ],
      "execution_count": 12,
      "outputs": [
        {
          "output_type": "execute_result",
          "data": {
            "text/plain": []
          },
          "metadata": {},
          "execution_count": 12
        }
      ]
    },
    {
      "cell_type": "code",
      "source": [],
      "metadata": {
        "id": "VFR4mUWHpBs6"
      },
      "execution_count": null,
      "outputs": []
    }
  ]
}