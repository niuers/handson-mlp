{
  "nbformat": 4,
  "nbformat_minor": 0,
  "metadata": {
    "colab": {
      "provenance": [],
      "authorship_tag": "ABX9TyMgzQOKR2+iGZzIzz6lNnuz",
      "include_colab_link": true
    },
    "kernelspec": {
      "name": "python3",
      "display_name": "Python 3"
    },
    "language_info": {
      "name": "python"
    }
  },
  "cells": [
    {
      "cell_type": "markdown",
      "metadata": {
        "id": "view-in-github",
        "colab_type": "text"
      },
      "source": [
        "<a href=\"https://colab.research.google.com/github/niuers/handson-mlp/blob/main/Micrograd.ipynb\" target=\"_parent\"><img src=\"https://colab.research.google.com/assets/colab-badge.svg\" alt=\"Open In Colab\"/></a>"
      ]
    },
    {
      "cell_type": "code",
      "execution_count": 3,
      "metadata": {
        "id": "rChcxkFSAyXx",
        "outputId": "1500c376-0684-4554-8532-7e33fe631958",
        "colab": {
          "base_uri": "https://localhost:8080/"
        }
      },
      "outputs": [
        {
          "output_type": "stream",
          "name": "stdout",
          "text": [
            "fatal: destination path 'handson-mlp' already exists and is not an empty directory.\n",
            "Changed directory to: /content/handson-mlp\n",
            "Changed back to original directory: /content\n",
            "\n",
            "Git is now configured to use your PAT.\n"
          ]
        },
        {
          "output_type": "execute_result",
          "data": {
            "text/plain": [
              "2"
            ]
          },
          "metadata": {},
          "execution_count": 3
        }
      ],
      "source": [
        "# Startup Code\n",
        "!git clone https://github.com/niuers/handson-mlp.git\n",
        "!git config --global user.email \"nzquantfin@google.com\"\n",
        "!git config --global user.name \"NZ\"\n",
        "\n",
        "from google.colab import userdata\n",
        "import os\n",
        "import sys\n",
        "\n",
        "# Replace 'GITHUB_PAT' with the name you gave your secret\n",
        "GITHUB_PAT = userdata.get('GITHUB_PAT')\n",
        "\n",
        "\n",
        "\n",
        "\n",
        "\n",
        "# Get the current directory to handle potential changes\n",
        "current_dir = os.getcwd()\n",
        "\n",
        "# Change to the cloned repository directory if necessary\n",
        "# Replace 'handson-mlp' with the name of your repository folder\n",
        "repo_dir = os.path.join(current_dir, 'handson-mlp')\n",
        "\n",
        "# Check if the directory exists before changing to it\n",
        "if os.path.exists(repo_dir):\n",
        "    os.chdir(repo_dir)\n",
        "    print(f\"Changed directory to: {os.getcwd()}\")\n",
        "else:\n",
        "    print(f\"Repository directory not found: {repo_dir}. Please ensure you have cloned the repository.\")\n",
        "    # You might want to add logic here to handle the case where the repo is not cloned\n",
        "\n",
        "# Configure git to use the PAT\n",
        "# This command will replace the password with the PAT when pushing\n",
        "!git config --global url.\"https://{GITHUB_PAT}@github.com\".insteadOf \"https://github.com\"\n",
        "\n",
        "# Change back to the original directory if you changed it\n",
        "os.chdir(current_dir)\n",
        "print(f\"Changed back to original directory: {os.getcwd()}\")\n",
        "\n",
        "print(\"\\nGit is now configured to use your PAT.\")\n",
        "\n",
        "# !git config --global credential.helper 'cache --timeout 3600'\n",
        "!alias gs=\"git status\"\n",
        "!alias gc=\"git commit -m\"\n",
        "!alias gp=\"git push\"\n",
        "\n",
        "# %%shell\n",
        "!echo 'alias gs=\"git status\"' >> ~/.bashrc\n",
        "!echo 'alias gc=\"git commit -m\"' >> ~/.bashrc\n",
        "!echo 'alias gp=\"git push\"' >> ~/.bashrc\n",
        "!source ~/.bashrc\n",
        "\n",
        "# Note: While these aliases are added to .bashrc, their availability\n",
        "# for subsequent '!' or '%%shell' commands in other cells\n",
        "# may vary in the Colab environment.\n",
        "# You might need to define them directly within each %%shell block\n",
        "# where you want to use them for consistent behavior.\n",
        "\n",
        "\n",
        "# Get the current directory\n",
        "current_dir = os.getcwd()\n",
        "\n",
        "# Add the handson-mlp directory to sys.path\n",
        "# Assuming handson-mlp is cloned in the /content directory\n",
        "handson_mlp_path = os.path.join(current_dir, 'handson-mlp')\n",
        "sys.path.append(handson_mlp_path)\n",
        "\n",
        "from src.dummy import my_dummy\n",
        "my_dummy(1)\n",
        "\n",
        "# some random words\n",
        "\n"
      ]
    },
    {
      "cell_type": "markdown",
      "source": [
        "Andrei Karpathy: [The spelled-out intro to neural networks and backpropagation: building micrograd](https://youtu.be/VMj-3S1tku0?list=PLAqhIrjkxbuWI23v9cThsA9GvCAUhRvKZ)\n"
      ],
      "metadata": {
        "id": "ToJMiN05Bk1m"
      }
    }
  ]
}